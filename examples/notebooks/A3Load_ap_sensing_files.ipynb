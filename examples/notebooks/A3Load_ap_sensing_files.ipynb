{
 "cells": [
  {
   "cell_type": "markdown",
   "metadata": {},
   "source": [
    "# A3. Loading AP Sensing files\n",
    "This example loads AP sensing files. Only single-ended files are currently supported. Just like with Silixa's devices, the AP Sensing data is in .xml files"
   ]
  },
  {
   "cell_type": "code",
   "execution_count": 1,
   "metadata": {
    "execution": {
     "iopub.execute_input": "2021-05-12T08:39:32.091852Z",
     "iopub.status.busy": "2021-05-12T08:39:32.089505Z",
     "iopub.status.idle": "2021-05-12T08:39:33.167435Z",
     "shell.execute_reply": "2021-05-12T08:39:33.166954Z"
    }
   },
   "outputs": [],
   "source": [
    "import os\n",
    "import glob\n",
    "\n",
    "from dtscalibration import read_apsensing_files"
   ]
  },
  {
   "cell_type": "markdown",
   "metadata": {},
   "source": [
    "The example data files are located in `./python-dts-calibration/tests/data`."
   ]
  },
  {
   "cell_type": "code",
   "execution_count": 2,
   "metadata": {
    "execution": {
     "iopub.execute_input": "2021-05-12T08:39:33.170973Z",
     "iopub.status.busy": "2021-05-12T08:39:33.170444Z",
     "iopub.status.idle": "2021-05-12T08:39:33.173287Z",
     "shell.execute_reply": "2021-05-12T08:39:33.173670Z"
    }
   },
   "outputs": [
    {
     "name": "stdout",
     "output_type": "stream",
     "text": [
      "../../tests/data/ap_sensing\n"
     ]
    }
   ],
   "source": [
    "filepath = os.path.join('..', '..', 'tests', 'data', 'ap_sensing')\n",
    "print(filepath)"
   ]
  },
  {
   "cell_type": "code",
   "execution_count": 3,
   "metadata": {
    "execution": {
     "iopub.execute_input": "2021-05-12T08:39:33.178139Z",
     "iopub.status.busy": "2021-05-12T08:39:33.177608Z",
     "iopub.status.idle": "2021-05-12T08:39:33.180465Z",
     "shell.execute_reply": "2021-05-12T08:39:33.180053Z"
    }
   },
   "outputs": [
    {
     "name": "stdout",
     "output_type": "stream",
     "text": [
      "_AP Sensing_N4386B_3_20180118201727.xml\n",
      "_AP Sensing_N4386B_3_20180118202957.xml\n",
      "_AP Sensing_N4386B_3_20180118205357.xml\n"
     ]
    }
   ],
   "source": [
    "filepathlist = sorted(glob.glob(os.path.join(filepath, '*.xml')))\n",
    "filenamelist = [os.path.basename(path) for path in filepathlist]\n",
    "\n",
    "for fn in filenamelist:\n",
    "    print(fn)"
   ]
  },
  {
   "cell_type": "markdown",
   "metadata": {},
   "source": [
    "We will simply load in the .xml files"
   ]
  },
  {
   "cell_type": "code",
   "execution_count": 4,
   "metadata": {
    "execution": {
     "iopub.execute_input": "2021-05-12T08:39:33.184145Z",
     "iopub.status.busy": "2021-05-12T08:39:33.183354Z",
     "iopub.status.idle": "2021-05-12T08:39:33.556162Z",
     "shell.execute_reply": "2021-05-12T08:39:33.556576Z"
    }
   },
   "outputs": [
    {
     "name": "stdout",
     "output_type": "stream",
     "text": [
      "3 files were found, each representing a single timestep\n",
      "4 recorded vars were found: LAF, TEMP, ST, AST\n",
      "Recorded at 7101 points along the cable\n",
      "The measurement is single ended\n",
      "Reading the data from disk\n"
     ]
    }
   ],
   "source": [
    "ds = read_apsensing_files(directory=filepath)"
   ]
  },
  {
   "cell_type": "markdown",
   "metadata": {},
   "source": [
    "The object tries to gather as much metadata from the measurement files as possible (temporal and spatial coordinates, filenames, temperature probes measurements). All other configuration settings are loaded from the first files and stored as attributes of the `DataStore`.\n",
    "\n",
    "Calibration follows as usual (see the other notebooks)."
   ]
  },
  {
   "cell_type": "code",
   "execution_count": 5,
   "metadata": {
    "execution": {
     "iopub.execute_input": "2021-05-12T08:39:33.565382Z",
     "iopub.status.busy": "2021-05-12T08:39:33.564875Z",
     "iopub.status.idle": "2021-05-12T08:39:33.566964Z",
     "shell.execute_reply": "2021-05-12T08:39:33.567386Z"
    }
   },
   "outputs": [
    {
     "name": "stdout",
     "output_type": "stream",
     "text": [
      "<dtscalibration.DataStore>\n",
      "Sections:                  ()\n",
      "Dimensions:       (time: 3, trans_att: 0, x: 7101)\n",
      "Coordinates:\n",
      "  * x             (x) float64 0.0 0.5 1.0 1.5 ... 3.549e+03 3.55e+03 3.55e+03\n",
      "    filename      (time) <U39 '_AP Sensing_N4386B_3_20180118201727.xml' ... '...\n",
      "  * time          (time) datetime64[ns] 2018-01-18T20:17:27 ... 2018-01-18T20...\n",
      "  * trans_att     (trans_att) float64 \n",
      "Data variables:\n",
      "    tmp           (x, time) float64 12.16 11.32 12.26 ... 17.68 15.08 17.83\n",
      "    st            (x, time) float64 1.098 1.105 1.101 ... 3.39e-18 3.409e-18\n",
      "    ast           (x, time) float64 0.1888 0.1891 0.1895 ... 4.838e-19 4.945e-19\n",
      "    creationDate  (time) datetime64[ns] 2018-01-18T20:17:27 ... 2018-01-18T20...\n",
      "Attributes: (12/52)\n",
      "    wellbore:uid:                                                            ...\n",
      "    wellbore:name:                                                           ...\n",
      "    wellbore:dtsInstalledSystemSet:dtsInstalledSystem:uid:                   ...\n",
      "    wellbore:dtsInstalledSystemSet:dtsInstalledSystem:name:                  ...\n",
      "    wellbore:dtsInstalledSystemSet:dtsInstalledSystem:fiberInformation:fiber:...\n",
      "    wellbore:dtsInstalledSystemSet:dtsInstalledSystem:fiberInformation:fiber:...\n",
      "    ...                                                                             ...\n",
      "    wellbore:wellLogSet:wellLog:blockInfo:blockCurveInfo_3:curveId:          ...\n",
      "    wellbore:wellLogSet:wellLog:blockInfo:blockCurveInfo_3:columnIndex:      ...\n",
      "\n",
      ".. and many more attributes. See: ds.attrs\n"
     ]
    }
   ],
   "source": [
    "print(ds)"
   ]
  }
 ],
 "metadata": {
  "kernelspec": {
   "display_name": "Python 3",
   "language": "python",
   "name": "python3"
  },
  "language_info": {
   "codemirror_mode": {
    "name": "ipython",
    "version": 3
   },
   "file_extension": ".py",
   "mimetype": "text/x-python",
   "name": "python",
   "nbconvert_exporter": "python",
   "pygments_lexer": "ipython3",
   "version": "3.7.10"
  }
 },
 "nbformat": 4,
 "nbformat_minor": 2
}
